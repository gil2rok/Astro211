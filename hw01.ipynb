{
 "cells": [
  {
   "cell_type": "code",
   "execution_count": 1,
   "metadata": {},
   "outputs": [],
   "source": [
    "import numpy as np"
   ]
  },
  {
   "cell_type": "code",
   "execution_count": 2,
   "metadata": {
    "slideshow": {
     "slide_type": "-"
    }
   },
   "outputs": [],
   "source": [
    "def trapzd(func, a, b, hstep, *args):\n",
    "    \"\"\"\n",
    "    integration using trapezoidal scheme\n",
    "    \n",
    "    Parameters:\n",
    "    -----------\n",
    "    func: python function object - function to integrate\n",
    "    a, b: floats - integration interval\n",
    "    hstep: float - step size to use\n",
    "    *args: pointer to argument list to pass to dl_func\n",
    "    \n",
    "    Returns:\n",
    "    --------\n",
    "    float - value of the integral estimated using trapezoidal integration    \n",
    "    \"\"\"\n",
    "    bma = np.abs(b-a)\n",
    "    nstep = np.int(bma / hstep) \n",
    "    if nstep == 1:\n",
    "        return 0.5*(func(a, *args) + func(b, *args)) * hstep\n",
    "    else: \n",
    "        xd = a + np.arange(nstep) * hstep # np.arange creates a vector of values from 0 to nstep-1\n",
    "        return (0.5*(func(a, *args) + func(b, *args)) + np.sum(func(xd[1:], *args))) * hstep\n"
   ]
  },
  {
   "cell_type": "code",
   "execution_count": 3,
   "metadata": {},
   "outputs": [],
   "source": [
    "def rom_int(func, a, b, hstep, *args):\n",
    "    \"\"\"\n",
    "    integration using an efficent calculation of R1(h)\n",
    "    \n",
    "    Assumptions:\n",
    "    -----------\n",
    "    the # of sub-intervals of [a, b] is a power of 2\n",
    "    func can take vectors, ../github-a211w20/not just scalars\n",
    "    \n",
    "    Parameters:\n",
    "    -----------\n",
    "    func: python function object - function to integrate\n",
    "    a, b: floats - integration interval\n",
    "    hstep: float - step size to use\n",
    "    *args: pointer to argument list to pass to dl_func\n",
    "    \n",
    "    Returns:\n",
    "    --------\n",
    "    float - value of the integral estimated using trapezoidal integration    \n",
    "    \"\"\"\n",
    "    #TODO: check if our assumptions are met\n",
    "    \n",
    "    k = np.log2((2. * (b-a))/hstep)\n",
    "    trap = trapzd(func, a, b, hstep, *args)\n",
    "    vec1 = np.arange(1., (np.power(2., (k - 1.))+1))\n",
    "    vec2 = a + ((2.*vec1) -1.) * (hstep / 2.)\n",
    "    vec3 = np.sum(func(vec2, *args))\n",
    "    return ((1./3.) * (trap + (2. * hstep * vec3)))"
   ]
  },
  {
   "cell_type": "code",
   "execution_count": 4,
   "metadata": {},
   "outputs": [],
   "source": [
    "#This function is taken from notebook 02_integration_approximation.ipynb\n",
    "\n",
    "def compute_integral(func, int_func, a, b, ns):\n",
    "    nsteps = np.arange(ns) # generate a vector of nstep values from 0 to ns-1\n",
    "    rom_int_value = np.zeros(np.shape(nsteps)[0]) # initialize a vector for integration results for each step size\n",
    "\n",
    "    bma = b - a\n",
    "    hsteps = bma / np.power(2., nsteps) # compute vector of corresponding step sizes\n",
    "    for i, ns in enumerate(nsteps):\n",
    "        rom_int_value[i] = int_func(func, a, b, hsteps[i]) # compute the integral for each step size\n",
    "     \n",
    "    return rom_int_value, hsteps # return vectors of integration results and step sizes0 "
   ]
  },
  {
   "cell_type": "code",
   "execution_count": 5,
   "metadata": {},
   "outputs": [],
   "source": [
    "a = 0.; b = np.pi\n",
    "ns = 10 \n",
    "\n",
    "rom_int_val, hsteps = compute_integral(np.sin, rom_int, a, b, ns)\n",
    "trap_int_val, hsteps = compute_integral(np.sin, trapzd, a, b, ns)\n",
    "\n",
    "#trap_int_half_step, hsteps = compute_integral_half_step(np.sin, trapzd, a, b, ns)\n",
    "#inefficent_rom_int = (1/3)*(4*trap_int_half_step - trap_int)\n",
    "\n",
    "exact_int = np.cos(a)-np.cos(b)\n",
    "\n",
    "ferr_rom = np.abs(rom_int_val/exact_int - 1.)\n",
    "ferr_trap = np.abs(trap_int_val/exact_int - 1.)\n",
    "\n",
    "#ferr_inefficent_rom = np.abs(inefficent_rom_int/exact_int - 1.)"
   ]
  },
  {
   "cell_type": "code",
   "execution_count": 6,
   "metadata": {},
   "outputs": [],
   "source": [
    "#Plotting our results\n",
    "import matplotlib.pylab as plt\n",
    "%matplotlib inline\n",
    "\n",
    "def plot_pretty(dpi=175,fontsize=9):\n",
    "    # import pyplot and set some parameters to make plots prettier\n",
    "    plt.rc(\"savefig\", dpi=dpi)\n",
    "    plt.rc(\"figure\", dpi=dpi)\n",
    "    plt.rc('font', size=fontsize)\n",
    "    plt.rc('xtick', direction='in') \n",
    "    plt.rc('ytick', direction='in')\n",
    "    plt.rc('xtick.major', pad=5) \n",
    "    plt.rc('xtick.minor', pad=5)\n",
    "    plt.rc('ytick.major', pad=5) \n",
    "    plt.rc('ytick.minor', pad=5)\n",
    "    plt.rc('lines', dotted_pattern = [2., 2.])\n",
    "    #if you don't have LaTeX installed on your laptop and this statement \n",
    "    # generates error, comment it out\n",
    "    plt.rc('text', usetex=True)\n",
    "\n",
    "    return\n",
    "\n",
    "def plot_line_points(x, y, figsize=6, xlabel=' ', ylabel=' ', col= 'darkslateblue', \n",
    "                     xp = None, yp = None, points = False, pmarker='.', pcol='slateblue',\n",
    "                     legend=None, plegend = None, legendloc='lower right', \n",
    "                     plot_title = None, grid=None, figsave = None):\n",
    "    \"\"\"\n",
    "    A simple helper routine to make plots that involve a line and (optionally)\n",
    "    a set of points, which was introduced and used during the first two weeks \n",
    "    of class.\n",
    "    \"\"\"\n",
    "    plt.figure(figsize=(figsize,figsize))\n",
    "    plt.xlabel(xlabel); plt.ylabel(ylabel)\n",
    "    # Initialize minor ticks\n",
    "    plt.minorticks_on()\n",
    "\n",
    "    if legend:\n",
    "        plt.plot(x, y, lw = 1., c=col, label = legend)\n",
    "        if points: \n",
    "            if plegend:\n",
    "                plt.scatter(xp, yp, marker=pmarker, lw = 2., c=pcol, label=plegend)\n",
    "            else:\n",
    "                plt.scatter(xp, yp, marker=pmarker, lw = 2., c=pcol)\n",
    "        plt.legend(frameon=False, loc=legendloc, fontsize=3.*figsize)\n",
    "    else:\n",
    "        plt.plot(x, y, lw = 1., c=col)\n",
    "        if points:\n",
    "            plt.scatter(xp, yp, marker=pmarker, lw = 2., c=pcol)\n",
    "\n",
    "    if plot_title:\n",
    "        plt.title(plot_title, fontsize=3.*figsize)\n",
    "        \n",
    "    if grid: \n",
    "        plt.grid(linestyle='dotted', lw=0.5, color='lightgray')\n",
    "        \n",
    "    if figsave:\n",
    "        plt.savefig(figsave, bbox_inches='tight')\n",
    "\n",
    "    plt.show()\n"
   ]
  },
  {
   "cell_type": "code",
   "execution_count": 7,
   "metadata": {},
   "outputs": [
    {
     "data": {
      "image/png": "[encoded data removed]",
      "text/plain": [
       "<Figure size 288x288 with 1 Axes>"
      ]
     },
     "metadata": {
      "needs_background": "light"
     },
     "output_type": "display_data"
    }
   ],
   "source": [
    "plot_line_points(np.log10(hsteps), np.log10(ferr_rom), xlabel=r'$\\log_{10} h$',\n",
    "                 ylabel=r'log10(frac. error)', figsize=4)"
   ]
  },
  {
   "cell_type": "code",
   "execution_count": 8,
   "metadata": {},
   "outputs": [
    {
     "data": {
      "image/png": "[encoded data removed]",
      "text/plain": [
       "<Figure size 360x360 with 1 Axes>"
      ]
     },
     "metadata": {
      "needs_background": "light"
     },
     "output_type": "display_data"
    }
   ],
   "source": [
    "\n",
    "#model is ferr ~ h^n, we normalize it to the size of error for first step size in the sequence:\n",
    "ferr_model = ferr_rom[0] * (hsteps/hsteps[0])**4\n",
    "\n",
    "plot_line_points(np.log10(hsteps), np.log10(ferr_model), \n",
    "                 xlabel=r'$\\log_{10}\\,\\rm step\\ size$', ylabel = r'$\\log_{10}\\vert\\rm fractional\\ error\\vert$',\n",
    "                 xp=np.log10(hsteps), yp=np.log10(ferr_rom), points=True, \n",
    "                 legend=r'${\\rm scaling} \\propto h^4$', plegend = r'$\\rm measured\\ error$',\n",
    "                 legendloc = 'lower right', \n",
    "                 plot_title=r'$R_1\\ \\rm frac.\\ error\\ scaling\\ with\\ step\\ size$',\n",
    "                 grid=True, figsize=5, figsave='fracerr_r1.pdf')"
   ]
  },
  {
   "cell_type": "code",
   "execution_count": 9,
   "metadata": {},
   "outputs": [],
   "source": [
    "def abs_error_func(exact_val, approx_val):\n",
    "    return (np.abs(approx_val - exact_val))\n",
    "\n",
    "def rel_error_func(exact_val, approx_val):\n",
    "    return (np.abs(1. - approx_val/exact_val))"
   ]
  },
  {
   "cell_type": "code",
   "execution_count": 10,
   "metadata": {},
   "outputs": [],
   "source": [
    "def error_tol_rom_int(func, int_func1, int_func2, a, b, atol, rtol, *args):\n",
    "    \"\"\"\n",
    "    find the largest step size that satisfies atol or rtol and calculate the integral\n",
    "    using that step size\n",
    "    \n",
    "    NOTE: int_func1 should be more accurate (rhombering integration) \n",
    "    than int_func2 (trapezoid integration)\n",
    "    \n",
    "    Parameters:\n",
    "    -----------\n",
    "    func: python function object - function to integrate\n",
    "    int_func1: python function object -- function that uses integration method #1, more accurate\n",
    "    int_func2: python function object -- function that uses integration method #2, less accurate\n",
    "    a, b: floats - integration interval\n",
    "    atol: float - absolute error tolerance\n",
    "    rtol: float - relative error tolerance\n",
    "    *args: pointer to argument list to pass to dl_func\n",
    "    \n",
    "    Returns:\n",
    "    --------\n",
    "    float - the romberg integral approximation that satisfies the given relative and absolute error values\n",
    "    \"\"\"\n",
    "    \n",
    "    hstep = np.abs(b-a) #Initial h-step value\n",
    "    rom_int = int_func1(func, a, b, hstep, *args) #Initial Romberg integration approximation\n",
    "    trap_int = int_func2(func, a, b, hstep, *args) #Initial trapezoind integration approximation\n",
    " \n",
    "    abs_error = abs_error_func(rom_int, trap_int)\n",
    "    rel_error = rel_error_func(rom_int, trap_int)\n",
    "\n",
    "    #Finding the abs_error value that satisfies atol\n",
    "    while (not abs_error < atol) and (not abs_error < rtol):\n",
    "        hstep /= 2.\n",
    "        rom_int = int_func1(func, a, b, hstep, *args)\n",
    "        trap_int = int_func2(func, a, b, hstep, *args)\n",
    "        abs_error = abs_error_func(rom_int, trap_int)\n",
    "        rel_error = rel_error_func(rom_int, trap_int)\n",
    "\n",
    "    print(hstep)\n",
    "    return (int_func1(func, a, b, hstep, *args))\n"
   ]
  },
  {
   "cell_type": "code",
   "execution_count": 11,
   "metadata": {},
   "outputs": [
    {
     "name": "stdout",
     "output_type": "stream",
     "text": [
      "1.8725351414619643e-07\n"
     ]
    },
    {
     "data": {
      "text/plain": [
       "2.0000000000000036"
      ]
     },
     "execution_count": 11,
     "metadata": {},
     "output_type": "execute_result"
    }
   ],
   "source": [
    "error_tol_rom_int(np.sin, rom_int, trapzd, a, b, 10e-100, 10e-15)"
   ]
  },
  {
   "cell_type": "code",
   "execution_count": 12,
   "metadata": {
    "slideshow": {
     "slide_type": "slide"
    }
   },
   "outputs": [],
   "source": [
    "def _dc(z1, z2, hstep, *args):\n",
    "    \"\"\"\n",
    "    helper function to compute D_c from z1 to z2 by numerical integration using trapzd\n",
    "    \n",
    "    Parameters: \n",
    "    -----------\n",
    "    z1, z2: floats = redshift integration limits\n",
    "    hstep: float = step size for trapezoidal integration\n",
    "    *args: pointer to argument list to pass to dl_func\n",
    "    \n",
    "    Returns:\n",
    "    --------\n",
    "    float - value of the integral estimated using trapezoidal integration\n",
    "    \"\"\"\n",
    "    return trapzd(dl_func, z1, z2, hstep, *args)"
   ]
  },
  {
   "cell_type": "code",
   "execution_count": 138,
   "metadata": {},
   "outputs": [],
   "source": [
    "def d_L(z, H0, Om0, OmL, hstep=1.e-8):\n",
    "    \"\"\"\n",
    "    routine computing luminosity distance from z=0 to z \n",
    "    using helper routine for comoving distance _dc\n",
    "    \n",
    "    Parameters:\n",
    "    -----------\n",
    "    z: float - redshift to which to compute d_L\n",
    "    H0: float - Hubble constant in units of km/s/Mpc\n",
    "    Om0: float - dimensionless mean matter density in the universe, >= 0\n",
    "    OmL: float - dimensionless mean vacuum energy density in the universe\n",
    "    hstep: float - step size to use\n",
    "     \n",
    "    Returns:\n",
    "    --------\n",
    "    float - value of d_L(z, H0, Om0, OmL) \n",
    "            estimated using trapezoidal integration with step size hstep \n",
    "    \"\"\"\n",
    "    if 1.0+OmL == 1.0: # note that I exploit the roundoff error in testing whether OmL is consistent with zero\n",
    "        return d_L_simple(z, H0, Om0) # if OmL=0, use simple formula without integration\n",
    "    else: # otherwise use numerical integration to compute distance \n",
    "        dH = clight / H0 \n",
    "        Omk = 1.0 - Om0 - OmL\n",
    "        args = [H0, Om0, OmL, Omk]\n",
    "        dc = _dc(0., z, hstep, *args)\n",
    "        if 1.0 + Omk == 1.0:\n",
    "            return dH * dc * (1.0 + z)\n",
    "        else:\n",
    "            sqrOmk = np.sqrt(np.abs(Omk))\n",
    "            if Omk > 0.:\n",
    "                return dH * np.sinh(dc*sqrOmk) * (1.0 + z) / sqrOmk \n",
    "            else:\n",
    "                return dH * np.sin(dc*sqrOmk) * (1.0 + z) / sqrOmk\n",
    "            \n",
    "        return dL"
   ]
  },
  {
   "cell_type": "code",
   "execution_count": 6,
   "metadata": {},
   "outputs": [
    {
     "name": "stdout",
     "output_type": "stream",
     "text": [
      "d_L(z=2.00, Om0=0.30, OmL=0.70, H0=70.0) = 1.554e+04 Mpc\n"
     ]
    }
   ],
   "source": [
    "H0, Om0, OmL = 70., 0.3, 0.7;\n",
    "z = 2.0\n",
    "\n",
    "hstep = 1.e-6\n",
    "\n",
    "dLtrap    = d_L(z, H0, Om0, OmL, hstep=hstep)\n",
    "\n",
    "print(\"d_L(z=%.2f, Om0=%.2f, OmL=%.2f, H0=%.1f) = %.4g Mpc\"%(z, Om0, OmL, H0, dLtrap))\n"
   ]
  },
  {
   "cell_type": "code",
   "execution_count": null,
   "metadata": {},
   "outputs": [],
   "source": []
  }
 ],
 "metadata": {
  "kernelspec": {
   "display_name": "Python 3",
   "language": "python",
   "name": "python3"
  },
  "language_info": {
   "codemirror_mode": {
    "name": "ipython",
    "version": 3
   },
   "file_extension": ".py",
   "mimetype": "text/x-python",
   "name": "python",
   "nbconvert_exporter": "python",
   "pygments_lexer": "ipython3",
   "version": "3.7.3"
  }
 },
 "nbformat": 4,
 "nbformat_minor": 1
}
