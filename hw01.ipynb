{
 "cells": [
  {
   "cell_type": "code",
   "execution_count": 158,
   "metadata": {},
   "outputs": [],
   "source": [
    "import numpy as np"
   ]
  },
  {
   "cell_type": "code",
   "execution_count": 159,
   "metadata": {
    "slideshow": {
     "slide_type": "-"
    }
   },
   "outputs": [],
   "source": [
    "def trapzd(func, a, b, hstep, *args):\n",
    "    \"\"\"\n",
    "    integration using trapezoidal scheme\n",
    "    \n",
    "    Parameters:\n",
    "    -----------\n",
    "    func: python function object - function to integrate\n",
    "    a, b: floats - integration interval\n",
    "    hstep: float - step size to use\n",
    "    *args: pointer to argument list to pass to dl_func\n",
    "    \n",
    "    Returns:\n",
    "    --------\n",
    "    float - value of the integral estimated using trapezoidal integration    \n",
    "    \"\"\"\n",
    "    bma = np.abs(b-a)\n",
    "    nstep = np.int(bma / hstep) \n",
    "    if nstep == 1:\n",
    "        return 0.5*(func(a, *args) + func(b, *args)) * hstep\n",
    "    else: \n",
    "        xd = a + np.arange(nstep) * hstep # np.arange creates a vector of values from 0 to nstep-1\n",
    "        return (0.5*(func(a, *args) + func(b, *args)) + np.sum(func(xd[1:], *args))) * hstep\n"
   ]
  },
  {
   "cell_type": "code",
   "execution_count": 160,
   "metadata": {},
   "outputs": [],
   "source": [
    "def rom_int(func, a, b, hstep, *args):\n",
    "    \"\"\"\n",
    "    integration using an efficent calculation of R1(h)\n",
    "    \n",
    "    Assumptions:\n",
    "    -----------\n",
    "    the # of sub-intervals of [a, b] is a power of 2\n",
    "    func can take vectors, ../github-a211w20/not just scalars\n",
    "    \n",
    "    Parameters:\n",
    "    -----------\n",
    "    func: python function object - function to integrate\n",
    "    a, b: floats - integration interval\n",
    "    hstep: float - step size to use\n",
    "    *args: pointer to argument list to pass to dl_func\n",
    "    \n",
    "    Returns:\n",
    "    --------\n",
    "    float - value of the integral estimated using trapezoidal integration    \n",
    "    \"\"\"\n",
    "    #TODO: check if our assumptions are met\n",
    "    \n",
    "    k = np.log2((2. * (b-a))/hstep)\n",
    "    trap = trapzd(func, a, b, hstep, *args)\n",
    "    vec1 = np.arange(1., (np.power(2., (k - 1.))+1))\n",
    "    vec2 = a + ((2.*vec1) -1.) * (hstep / 2.)\n",
    "    vec3 = np.sum(func(vec2, *args))\n",
    "    return ((1./3.) * (trap + (2. * hstep * vec3)))"
   ]
  },
  {
   "cell_type": "code",
   "execution_count": 161,
   "metadata": {},
   "outputs": [],
   "source": [
    "#This function is taken from notebook 02_integration_approximation.ipynb\n",
    "\n",
    "def compute_integral(func, int_func, a, b, ns, *args):\n",
    "    nsteps = np.arange(ns) # generate a vector of nstep values from 0 to ns-1\n",
    "    rom_int_value = np.zeros(np.shape(nsteps)[0]) # initialize a vector for integration results for each step size\n",
    "    bma = b - a\n",
    "    hsteps = bma / np.power(2., nsteps) # compute vector of corresponding step sizes\n",
    "    for i, ns in enumerate(nsteps):\n",
    "        rom_int_value[i] = int_func(func, a, b, hsteps[i], *args) # compute the integral for each step size\n",
    "     \n",
    "    return rom_int_value, hsteps # return vectors of integration results and step sizes0 "
   ]
  },
  {
   "cell_type": "code",
   "execution_count": 162,
   "metadata": {},
   "outputs": [],
   "source": [
    "a = 0.; b = np.pi\n",
    "ns = 10 \n",
    "\n",
    "rom_int_val, hsteps = compute_integral(np.sin, rom_int, a, b, ns)\n",
    "trap_int_val, hsteps = compute_integral(np.sin, trapzd, a, b, ns)\n",
    "\n",
    "exact_int = np.cos(a)-np.cos(b)\n",
    "\n",
    "ferr_rom = np.abs(rom_int_val/exact_int - 1.)\n",
    "ferr_trap = np.abs(trap_int_val/exact_int - 1.)"
   ]
  },
  {
   "cell_type": "code",
   "execution_count": 163,
   "metadata": {},
   "outputs": [],
   "source": [
    "#Plotting our results\n",
    "import matplotlib.pylab as plt\n",
    "%matplotlib inline\n",
    "\n",
    "def plot_pretty(dpi=175,fontsize=9):\n",
    "    # import pyplot and set some parameters to make plots prettier\n",
    "    plt.rc(\"savefig\", dpi=dpi)\n",
    "    plt.rc(\"figure\", dpi=dpi)\n",
    "    plt.rc('font', size=fontsize)\n",
    "    plt.rc('xtick', direction='in') \n",
    "    plt.rc('ytick', direction='in')\n",
    "    plt.rc('xtick.major', pad=5) \n",
    "    plt.rc('xtick.minor', pad=5)\n",
    "    plt.rc('ytick.major', pad=5) \n",
    "    plt.rc('ytick.minor', pad=5)\n",
    "    plt.rc('lines', dotted_pattern = [2., 2.])\n",
    "    #if you don't have LaTeX installed on your laptop and this statement \n",
    "    # generates error, comment it out\n",
    "    plt.rc('text', usetex=True)\n",
    "\n",
    "    return\n",
    "\n",
    "def plot_line_points(x, y, figsize=6, xlabel=' ', ylabel=' ', col= 'darkslateblue', \n",
    "                     xp = None, yp = None, points = False, pmarker='.', pcol='slateblue',\n",
    "                     legend=None, plegend = None, legendloc='lower right', \n",
    "                     plot_title = None, grid=None, figsave = None):\n",
    "    \"\"\"\n",
    "    A simple helper routine to make plots that involve a line and (optionally)\n",
    "    a set of points, which was introduced and used during the first two weeks \n",
    "    of class.\n",
    "    \"\"\"\n",
    "    plt.figure(figsize=(figsize,figsize))\n",
    "    plt.xlabel(xlabel); plt.ylabel(ylabel)\n",
    "    # Initialize minor ticks\n",
    "    plt.minorticks_on()\n",
    "\n",
    "    if legend:\n",
    "        plt.plot(x, y, lw = 1., c=col, label = legend)\n",
    "        if points: \n",
    "            if plegend:\n",
    "                plt.scatter(xp, yp, marker=pmarker, lw = 2., c=pcol, label=plegend)\n",
    "            else:\n",
    "                plt.scatter(xp, yp, marker=pmarker, lw = 2., c=pcol)\n",
    "        plt.legend(frameon=False, loc=legendloc, fontsize=3.*figsize)\n",
    "    else:\n",
    "        plt.plot(x, y, lw = 1., c=col)\n",
    "        if points:\n",
    "            plt.scatter(xp, yp, marker=pmarker, lw = 2., c=pcol)\n",
    "\n",
    "    if plot_title:\n",
    "        plt.title(plot_title, fontsize=3.*figsize)\n",
    "        \n",
    "    if grid: \n",
    "        plt.grid(linestyle='dotted', lw=0.5, color='lightgray')\n",
    "        \n",
    "    if figsave:\n",
    "        plt.savefig(figsave, bbox_inches='tight')\n",
    "\n",
    "    plt.show()\n",
    "\n"
   ]
  },
  {
   "cell_type": "code",
   "execution_count": 164,
   "metadata": {},
   "outputs": [
    {
     "data": {
      "image/png": "[encoded data removed]",
      "text/plain": [
       "<Figure size 288x288 with 1 Axes>"
      ]
     },
     "metadata": {
      "needs_background": "light"
     },
     "output_type": "display_data"
    }
   ],
   "source": [
    "plot_line_points(np.log10(hsteps), np.log10(ferr_rom), xlabel=r'$\\log_{10} h$',\n",
    "                 ylabel=r'log10(frac. err):or)', figsize=4)"
   ]
  },
  {
   "cell_type": "code",
   "execution_count": 165,
   "metadata": {},
   "outputs": [
    {
     "data": {
      "image/png": "[encoded data removed]",
      "text/plain": [
       "<Figure size 360x360 with 1 Axes>"
      ]
     },
     "metadata": {
      "needs_background": "light"
     },
     "output_type": "display_data"
    }
   ],
   "source": [
    "\n",
    "#model is ferr ~ h^n, we normalize it to the size of error for first step size in the sequence:\n",
    "ferr_model = ferr_rom[0] * (hsteps/hsteps[0])**4\n",
    "\n",
    "plot_line_points(np.log10(hsteps), np.log10(ferr_model), \n",
    "                 xlabel=r'$\\log_{10}\\,\\rm step\\ size$', ylabel = r'$\\log_{10}\\vert\\rm fractional\\ error\\vert$',\n",
    "                 xp=np.log10(hsteps), yp=np.log10(ferr_rom), points=True, \n",
    "                 legend=r'${\\rm scaling} \\propto h^4$', plegend = r'$\\rm measured\\ error$',\n",
    "                 legendloc = 'lower right', \n",
    "                 plot_title=r'$R_1\\ \\rm frac.\\ error\\ scaling\\ with\\ step\\ size$',\n",
    "                 grid=True, figsize=5, figsave='fracerr_r1.pdf')"
   ]
  },
  {
   "cell_type": "code",
   "execution_count": 166,
   "metadata": {},
   "outputs": [],
   "source": [
    "def error_tol_rom_int(func, int_func1, int_func2, a, b, atol, rtol, *args):\n",
    "    \"\"\"\n",
    "    find the largest step size that satisfies atol or rtol and calculate the integral\n",
    "    using that step sizeplot_line_points(np.log10(hsteps), np.log10(ferr_rom), xlabel=r'$\\log_{10} h$',\n",
    "                 ylabel=r'log10(frac. err):or)', figsize=4)\n",
    "    \n",
    "    NOTE: int_func1 should be more accurate (rhombering integration) \n",
    "    than int_func2 (trapezoid integration)\n",
    "    \n",
    "    Parameters:\n",
    "    -----------romberg integral approximation\n",
    "    func: python function object - function to integrate\n",
    "    int_func1: python function object -- function that uses integration method #1, more accurate\n",
    "    int_func2: python function object -- function that uses integration method #2, less accurate\n",
    "    a, b: floats - integration interval\n",
    "    atol: float - absolute error tolerance\n",
    "    rtol: float - relative error tolerance\n",
    "    *args: pointer to argument list to pass to dl_func\n",
    "    \n",
    "    Returns:\n",
    "    --------\n",
    "    float - the hstep that satisfies the given relative or absolute error values\n",
    "    \"\"\"\n",
    "    \n",
    "    hstep = np.abs(b-a) #Initial h-step value\n",
    "    rom_int = int_func1(func, a, b, hstep, *args) #Initial Romberg integration approximation\n",
    "    trap_int = int_func2(func, a, b, hstep, *args) #Initiaromberg integral approximationl trapezoind integration approximation\n",
    " \n",
    "    abs_error = abs_error_func(rom_int, trap_int) #Initial absolute error value\n",
    "    rel_error = rel_error_func(rom_int, trap_int) #Initial relative error value\n",
    "\n",
    "    #Finding the abs_error value that satisfies atol or rtol\n",
    "    while (not abs_error < atol) and (not rel_error < rtol):\n",
    "        hstep /= 2.\n",
    "        rom_int = int_func1(func, a, b, hstep, *args)\n",
    "        trap_int = int_func2(func, a, b, hstep, *args)\n",
    "        \n",
    "        #If the romberg integration approximation equals 0, then we can't use it\n",
    "        #(B/c otherwise we'd be dividing by 0). So to fix this we set rel_error\n",
    "        #to a really big number\n",
    "        \n",
    "        #if rom_int is not 0\n",
    "        if (rom_int > 10e-290):\n",
    "            abs_error = np.abs(rom_int - trap_int) \n",
    "            rel_error = np.abs(1 - trap_int/rom_int)\n",
    "        #if rom_int is equal to 0\n",
    "        else:\n",
    "            abs_error = np.abs(rom_int - trap_int)\n",
    "            rel_error = 10e100\n",
    "    return hstep"
   ]
  },
  {
   "cell_type": "code",
   "execution_count": 167,
   "metadata": {},
   "outputs": [],
   "source": [
    "def error_rom(func, int_func1, int_func2, a, b, atol, rtol, *args):\n",
    "    sat_hstep = error_tol_rom_int(np.sin, rom_int, trapzd, a, b, atol, rtol)\n",
    "    print(sat_hstep)\n",
    "    #Ensure that the hstep we have splits up the interval b-a into an integer number of subintervals\n",
    "    hstep = np.abs(b-a)\n",
    "    print(hstep)\n",
    "    while hstep > sat_hstep:\n",
    "        hstep/2.\n",
    "    return rom_int(np.sin, a, b, hstep) #Romberg approximation that uses sat_hstep"
   ]
  },
  {
   "cell_type": "code",
   "execution_count": null,
   "metadata": {},
   "outputs": [
    {
     "name": "stdout",
     "output_type": "stream",
     "text": [
      "0.09817477042468103\n",
      "3.141592653589793\n"
     ]
    }
   ],
   "source": [
    "atol = 10e-4; rtol = 10e-4\n",
    "sat_rom = error_rom(np.sin, rom_int, trapzd, a, b, atol, rtol)\n",
    "print(np.abs(sat_rom/exact_int - 1.))"
   ]
  },
  {
   "cell_type": "code",
   "execution_count": null,
   "metadata": {},
   "outputs": [],
   "source": [
    "atol = 1e-4; rtol = 1e-4\n",
    "#Hstep value that satisfies the error tolerance requirments\n",
    "sat_hstep = error_tol_rom_int(np.sin, rom_int, trapzd, a, b, atol, rtol)\n",
    "sat_rom1 = rom_int(np.sin, a, b, sat_hstep) #Romberg approximation that uses sat_hstep\n",
    "print(np.abs(sat_rom/exact_int - 1.))"
   ]
  },
  {
   "cell_type": "code",
   "execution_count": 130,
   "metadata": {},
   "outputs": [],
   "source": [
    "#Randomly deciding to try to plot (in 3d) how the relative error btwn the exact integral value\n",
    "#and the rombmerg approximation that satisfies our error tolerances\n",
    "#vary as we use a range of atol and rtol values\n",
    "#Summary: I don't know how to pick a good range of atol and rtol values\n",
    "#         and I don't entirely understand my graph. Was worth a shot though!\n",
    "\n",
    "atol_start = 10e-5; atol_end = 10e-3; atol_step = 10e-5\n",
    "rtol_start = 10e-5; rtol_end = 10e-3; rtol_step = 10e-5\n",
    "\n",
    "atol_vec = np.arange(atol_start, atol_end, atol_step)\n",
    "rtol_vec = np.arange(rtol_start, rtol_end, rtol_step)\n",
    "atol_2d, rtol_2d = np.meshgrid(atol_vec, rtol_vec)\n",
    "\n",
    "sat_rom_2d = np.full((atol_vec.size, rtol_vec.size), 0.)\n",
    "#Romberg integration w/ step size h that has satisfied our error tolerance requirments\n",
    "for i in range(atol_vec.size):\n",
    "    for j in range(rtol_vec.size):\n",
    "        temp_atol = atol_vec[i]\n",
    "        temp_rtol = rtol_vec[j]\n",
    "        temp_hstep = error_tol_rom_int(np.sin, rom_int, trapzd, a, b, temp_atol, temp_rtol)\n",
    "        sat_rom_2d[i][j] = rom_int(np.sin, a, b, temp_hstep)\n",
    "\n",
    "exact_int_vec = np.full((atol_vec.size, rtol_vec.size), exact_int) #vec of exact_int values\n",
    "\n",
    "#Calculating relative error of exact integration and rhombering integration that\n",
    "#satisfies error tolerance requirments for a range of absolute and relative values\n",
    "rerr_sat_rom_2d = np.abs(1 - sat_rom_2d/exact_int_vec)"
   ]
  },
  {
   "cell_type": "code",
   "execution_count": 131,
   "metadata": {},
   "outputs": [
    {
     "data": {
      "image/png": "[encoded data removed]",
      "text/plain": [
       "<Figure size 432x288 with 2 Axes>"
      ]
     },
     "metadata": {
      "needs_background": "light"
     },
     "output_type": "display_data"
    }
   ],
   "source": [
    "from mpl_toolkits.mplot3d import Axes3D\n",
    "from matplotlib import cm\n",
    "from matplotlib.ticker import LinearLocator, FormatStrFormatter\n",
    "\n",
    "#Plotting\n",
    "fig = plt.figure()\n",
    "ax = fig.gca(projection='3d')\n",
    "\n",
    "X = atol_2d\n",
    "Y = rtol_2d\n",
    "Z = rerr_sat_rom_2d\n",
    "\n",
    "# Plot the surface.\n",
    "surf = ax.plot_surface(np.log10(X), np.log10(Y), np.log10(Z), cmap=cm.coolwarm,\n",
    "                       linewidth=0, antialiased=False)\n",
    "\n",
    "# Customize the z axis.\n",
    "#ax.set_zlim(-1.01, 1.01)\n",
    "#ax.zaxis.set_major_locator(LinearLocator(10))\n",
    "#ax.zaxis.set_major_formatter(FormatStrFormatter('%.02f'))\n",
    "\n",
    "# Add a color bar which maps values to colors.\n",
    "fig.colorbar(surf, shrink=0.5, aspect=5)\n",
    "\n",
    "plt.show()"
   ]
  },
  {
   "cell_type": "code",
   "execution_count": 14,
   "metadata": {
    "slideshow": {
     "slide_type": "slide"
    }
   },
   "outputs": [],
   "source": [
    "def _dc(z1, z2, hstep, atol, rtol *args):\n",
    "    \"\"\"\n",
    "    helper function to compute D_c from z1 to z2 by numerical integration using rombering integration\n",
    "    with step size that gurantees error under the specified absolute or relative tolerance\n",
    "    \n",
    "    Parameters: \n",
    "    -----------\n",
    "    z1, z2: floats = redshift integration limits\n",
    "    hstep: float = step size for trapezoidal integration\n",
    "    atol: float = absolute error tolerance\n",
    "    rtol: float = relative error tolerance\n",
    "    *args: pointer to argument list to pass to dl_func\n",
    "    \n",
    "    Returns:\n",
    "    --------\n",
    "    float - value of the integral estimated using trapezoidal integration\n",
    "    \"\"\"\n",
    "    return trapzd(dl_func, z1, z2, hstep, *args)"
   ]
  },
  {
   "cell_type": "code",
   "execution_count": 15,
   "metadata": {},
   "outputs": [],
   "source": [
    "def d_L(z, H0, Om0, OmL, hstep=1.e-8):\n",
    "    \"\"\"\n",
    "    routine computing luminosity distance from z=0 to z \n",
    "    using helper routine for comoving distance _dc\n",
    "    \n",
    "    Parameters:\n",
    "    -----------\n",
    "    z: float - redshift to which to compute d_L\n",
    "    H0: float - Hubble constant in units of km/s/Mpc\n",
    "    Om0: float - dimensionless mean matter density in the universe, >= 0\n",
    "    OmL: float - dimensionless mean vacuum energy density in the universe\n",
    "    hstep: float - step size to use\n",
    "     \n",
    "    Returns:\n",
    "    --------\n",
    "    float - value of d_L(z, H0, Om0, OmL) \n",
    "            estimated using trapezoidal integration with step size hstep \n",
    "    \"\"\"\n",
    "    if 1.0+OmL == 1.0: # note that I exploit the roundoff error in testing whether OmL is consistent with zero\n",
    "        return d_L_simple(z, H0, Om0) # if OmL=0, use simple formula without integration\n",
    "    else: # otherwise use numerical integration to compute distance \n",
    "        dH = clight / H0 \n",
    "        Omk = 1.0 - Om0 - OmL\n",
    "        args = [H0, Om0, OmL, Omk]\n",
    "        dc = _dc(0., z, hstep, *args)\n",
    "        if 1.0 + Omk == 1.0:\n",
    "            return dH * dc * (1.0 + z)\n",
    "        else:\n",
    "            sqrOmk = np.sqrt(np.abs(Omk))\n",
    "            if Omk > 0.:\n",
    "                return dH * np.sinh(dc*sqrOmk) * (1.0 + z) / sqrOmk \n",
    "            else:\n",
    "                return dH * np.sin(dc*sqrOmk) * (1.0 + z) / sqrOmk\n",
    "            \n",
    "        return dL"
   ]
  },
  {
   "cell_type": "code",
   "execution_count": 16,
   "metadata": {},
   "outputs": [
    {
     "ename": "NameError",
     "evalue": "name 'clight' is not defined",
     "output_type": "error",
     "traceback": [
      "\u001b[0;31m---------------------------------------------------------------------------\u001b[0m",
      "\u001b[0;31mNameError\u001b[0m                                 Traceback (most recent call last)",
      "\u001b[0;32m<ipython-input-16-ab261408c2d2>\u001b[0m in \u001b[0;36m<module>\u001b[0;34m\u001b[0m\n\u001b[1;32m      4\u001b[0m \u001b[0mhstep\u001b[0m \u001b[0;34m=\u001b[0m \u001b[0;36m1.e-6\u001b[0m\u001b[0;34m\u001b[0m\u001b[0m\n\u001b[1;32m      5\u001b[0m \u001b[0;34m\u001b[0m\u001b[0m\n\u001b[0;32m----> 6\u001b[0;31m \u001b[0mdLtrap\u001b[0m    \u001b[0;34m=\u001b[0m \u001b[0md_L\u001b[0m\u001b[0;34m(\u001b[0m\u001b[0mz\u001b[0m\u001b[0;34m,\u001b[0m \u001b[0mH0\u001b[0m\u001b[0;34m,\u001b[0m \u001b[0mOm0\u001b[0m\u001b[0;34m,\u001b[0m \u001b[0mOmL\u001b[0m\u001b[0;34m,\u001b[0m \u001b[0mhstep\u001b[0m\u001b[0;34m=\u001b[0m\u001b[0mhstep\u001b[0m\u001b[0;34m)\u001b[0m\u001b[0;34m\u001b[0m\u001b[0m\n\u001b[0m\u001b[1;32m      7\u001b[0m \u001b[0;34m\u001b[0m\u001b[0m\n\u001b[1;32m      8\u001b[0m \u001b[0mprint\u001b[0m\u001b[0;34m(\u001b[0m\u001b[0;34m\"d_L(z=%.2f, Om0=%.2f, OmL=%.2f, H0=%.1f) = %.4g Mpc\"\u001b[0m\u001b[0;34m%\u001b[0m\u001b[0;34m(\u001b[0m\u001b[0mz\u001b[0m\u001b[0;34m,\u001b[0m \u001b[0mOm0\u001b[0m\u001b[0;34m,\u001b[0m \u001b[0mOmL\u001b[0m\u001b[0;34m,\u001b[0m \u001b[0mH0\u001b[0m\u001b[0;34m,\u001b[0m \u001b[0mdLtrap\u001b[0m\u001b[0;34m)\u001b[0m\u001b[0;34m)\u001b[0m\u001b[0;34m\u001b[0m\u001b[0m\n",
      "\u001b[0;32m<ipython-input-15-34b3ccca5308>\u001b[0m in \u001b[0;36md_L\u001b[0;34m(z, H0, Om0, OmL, hstep)\u001b[0m\n\u001b[1;32m     20\u001b[0m         \u001b[0;32mreturn\u001b[0m \u001b[0md_L_simple\u001b[0m\u001b[0;34m(\u001b[0m\u001b[0mz\u001b[0m\u001b[0;34m,\u001b[0m \u001b[0mH0\u001b[0m\u001b[0;34m,\u001b[0m \u001b[0mOm0\u001b[0m\u001b[0;34m)\u001b[0m \u001b[0;31m# if OmL=0, use simple formula without integration\u001b[0m\u001b[0;34m\u001b[0m\u001b[0m\n\u001b[1;32m     21\u001b[0m     \u001b[0;32melse\u001b[0m\u001b[0;34m:\u001b[0m \u001b[0;31m# otherwise use numerical integration to compute distance\u001b[0m\u001b[0;34m\u001b[0m\u001b[0m\n\u001b[0;32m---> 22\u001b[0;31m         \u001b[0mdH\u001b[0m \u001b[0;34m=\u001b[0m \u001b[0mclight\u001b[0m \u001b[0;34m/\u001b[0m \u001b[0mH0\u001b[0m\u001b[0;34m\u001b[0m\u001b[0m\n\u001b[0m\u001b[1;32m     23\u001b[0m         \u001b[0mOmk\u001b[0m \u001b[0;34m=\u001b[0m \u001b[0;36m1.0\u001b[0m \u001b[0;34m-\u001b[0m \u001b[0mOm0\u001b[0m \u001b[0;34m-\u001b[0m \u001b[0mOmL\u001b[0m\u001b[0;34m\u001b[0m\u001b[0m\n\u001b[1;32m     24\u001b[0m         \u001b[0margs\u001b[0m \u001b[0;34m=\u001b[0m \u001b[0;34m[\u001b[0m\u001b[0mH0\u001b[0m\u001b[0;34m,\u001b[0m \u001b[0mOm0\u001b[0m\u001b[0;34m,\u001b[0m \u001b[0mOmL\u001b[0m\u001b[0;34m,\u001b[0m \u001b[0mOmk\u001b[0m\u001b[0;34m]\u001b[0m\u001b[0;34m\u001b[0m\u001b[0m\n",
      "\u001b[0;31mNameError\u001b[0m: name 'clight' is not defined"
     ]
    }
   ],
   "source": [
    "H0, Om0, OmL = 70., 0.3, 0.7;\n",
    "z = 2.0\n",
    "\n",
    "hstep = 1.e-6\n",
    "\n",
    "dLtrap    = d_L(z, H0, Om0, OmL, hstep=hstep)\n",
    "\n",
    "print(\"d_L(z=%.2f, Om0=%.2f, OmL=%.2f, H0=%.1f) = %.4g Mpc\"%(z, Om0, OmL, H0, dLtrap))\n"
   ]
  },
  {
   "cell_type": "code",
   "execution_count": null,
   "metadata": {},
   "outputs": [],
   "source": []
  }
 ],
 "metadata": {
  "kernelspec": {
   "display_name": "Python 3",
   "language": "python",
   "name": "python3"
  },
  "language_info": {
   "codemirror_mode": {
    "name": "ipython",
    "version": 3
   },
   "file_extension": ".py",
   "mimetype": "text/x-python",
   "name": "python",
   "nbconvert_exporter": "python",
   "pygments_lexer": "ipython3",
   "version": "3.5.2"
  }
 },
 "nbformat": 4,
 "nbformat_minor": 1
}
