{
 "cells": [
  {
   "cell_type": "code",
   "execution_count": 202,
   "metadata": {
    "slideshow": {
     "slide_type": "-"
    }
   },
   "outputs": [],
   "source": [
    "import numpy as np\n",
    "\n",
    "def trapzd(func, a, b, hstep, *args):\n",
    "    \"\"\"\n",
    "    integration using trapezoidal scheme\n",
    "    \n",
    "    Parameters:\n",
    "    -----------\n",
    "    func: python function object - function to integrate\n",
    "    a, b: floats - integration interval\n",
    "    hstep: float - step size to use\n",
    "    *args: pointer to argument list to pass to dl_func\n",
    "    \n",
    "    Returns:\n",
    "    --------\n",
    "    float - value of the integral estimated using trapezoidal integration    \n",
    "    \"\"\"\n",
    "    bma = np.abs(b-a)\n",
    "    nstep = np.int(bma / hstep) \n",
    "    if nstep == 1:\n",
    "        return 0.5*(func(a, *args) + func(b, *args)) * hstep\n",
    "    else: \n",
    "        xd = a + np.arange(nstep) * hstep # np.arange creates a vector of values from 0 to nstep-1\n",
    "        return (0.5*(func(a, *args) + func(b, *args)) + np.sum(func(xd[1:], *args))) * hstep\n"
   ]
  },
  {
   "cell_type": "code",
   "execution_count": 203,
   "metadata": {},
   "outputs": [],
   "source": [
    "def rom_int(func, a, b, hstep, *args):\n",
    "    \"\"\"\n",
    "    integration using an efficent calculation of R1(h)\n",
    "    \n",
    "    Assumptions:\n",
    "    -----------\n",
    "    the # of sub-intervals of [a, b] is a power of 2\n",
    "    func can take vectors, ../github-a211w20/not just scalars\n",
    "    \n",
    "    Parameters:print(np.abs(inefficent_rom_int/exact_int - 1))\n",
    "    -----------\n",
    "    func: python function object - function to integrate\n",
    "    a, b: floats - integration interval\n",
    "    hstep: float - step size to use\n",
    "    *args: pointer to argument list to pass to dl_func\n",
    "    \n",
    "    Returns:\n",
    "    --------\n",
    "    float - value of the integral estimated using trapezoidal integration    \n",
    "    \"\"\"\n",
    "    #TODO: check if our assumptions are met\n",
    "    \n",
    "    k = np.log2((2. * (b-a))/hstep)\n",
    "    trap = trapzd(func, a, b, hstep, *args)\n",
    "    vec1 = np.arange(1., np.power(2., (k - 1.)))\n",
    "    vec2 = a + ((2.*vec1) -1.) * (hstep / 2.)\n",
    "    vec3 = np.sum(func(vec2, *args))\n",
    "    return ((1/3) * (trap + (2. * hstep * vec3)))"
   ]
  },
  {
   "cell_type": "code",
   "execution_count": 204,
   "metadata": {},
   "outputs": [],
   "source": [
    "#This function is taken from notebook 02_integration_approximation.ipynb\n",
    "\n",
    "def compute_integral(func, int_func, a, b, ns):\n",
    "    nsteps = np.arange(ns) # generate a vector of nstep values from 0 to ns-1\n",
    "    rom_int = np.zeros(np.shape(nsteps)[0]) # initialize a vector for integration results for each step size\n",
    "\n",
    "    bma = b - a\n",
    "    hsteps = bma / np.power(2., nsteps) # compute vector of corresponding step sizes\n",
    "    for i, ns in enumerate(nsteps):\n",
    "        rom_int[i] = int_func(func, a, b, hsteps[i]) # compute the integral for each step size\n",
    "     \n",
    "    return rom_int, hsteps # return vectors of integration results and step sizes"
   ]
  },
  {
   "cell_type": "code",
   "execution_count": 205,
   "metadata": {},
   "outputs": [],
   "source": [
    "#This function is taken from notebook 02_integration_approximation.ipynb\n",
    "\n",
    "def compute_integral_half_step(func, int_func, a, b, ns):\n",
    "    nsteps = np.arange(ns) # generate a vector of nstep values from 0 to ns-1\n",
    "    rom_int = np.zeros(np.shape(nsteps)[0]) # initialize a vector for integration results for each step size\n",
    "\n",
    "    bma = b - a\n",
    "    hsteps = 1/2 * bma / np.power(2., nsteps) # compute vector of corresponding step sizes\n",
    "    for i, ns in enumerate(nsteps):\n",
    "        rom_int[i] = int_func(func, a, b, hsteps[i]) # compute the integral for each step size\n",
    "     \n",
    "    return rom_int, hsteps # return vectors of integration results and step sizes"
   ]
  },
  {
   "cell_type": "code",
   "execution_count": 206,
   "metadata": {},
   "outputs": [],
   "source": [
    "a = 0.; b = np.pi\n",
    "ns = 10#This function is taken from notebook 02_integration_approximation.ipynb\n",
    "\n",
    "def compute_integral(func, int_func, a, b, ns):\n",
    "    nsteps = np.arange(ns) # generate a vector of nstep values from 0 to ns-1\n",
    "    rom_int = np.zeros(np.shape(nsteps)[0]) # initialize a vector for integration results for each step size\n",
    "\n",
    "    bma = b - a\n",
    "    hsteps = bma / np.power(2., nsteps) # compute vector of corresponding step sizes\n",
    "    for i, ns in enumerate(nsteps):\n",
    "        rom_int[i] = int_func(func, a, b, hsteps[i]) # compute the integral for each step size\n",
    "     \n",
    "    return rom_int, hsteps # return vectors of integration results and step sizes0 \n",
    "rom_int, hsteps = compute_integral(np.sin, rom_int, a, b, ns)\n",
    "trap_int, hsteps = compute_integral(np.sin, trapzd, a, b, ns)\n",
    "trap_int_half_step, hsteps = compute_integral_half_step(np.sin, trapzd, a, b, ns)\n",
    "inefficent_rom_int = (1/3)*(4*trap_int_half_step - trap_int)\n",
    "exact_int = np.cos(a)-np.cos(b)\n",
    "\n",
    "ferr_rom = np.abs(rom_int/exact_int - 1.)\n",
    "ferr_inefficent_rom = np.abs(inefficent_rom_int/exact_int - 1.)\n",
    "ferr_trap = np.abs(trap_int/exact_int - 1.)"
   ]
  },
  {
   "cell_type": "code",
   "execution_count": 207,
   "metadata": {},
   "outputs": [
    {
     "name": "stdout",
     "output_type": "stream",
     "text": [
      "6.27491515103884e-06\n",
      "4.920508445138694e-13\n",
      "3.137464712255067e-06\n"
     ]
    }
   ],
   "source": [
    "print(np.amin(ferr_rom))\n",
    "print(np.amin(ferr_inefficent_rom))\n",
    "print(np.amin(ferr_trap))"
   ]
  },
  {
   "cell_type": "code",
   "execution_count": 208,
   "metadata": {},
   "outputs": [
    {
     "data": {
      "image/png": "[encoded data removed]",
      "text/plain": [
       "<Figure size 288x288 with 1 Axes>"
      ]
     },
     "metadata": {
      "needs_background": "light"
     },
     "output_type": "display_data"
    }
   ],
   "source": [
    "#Plotting our results\n",
    "import matplotlib.pyplot as plt\n",
    "%matplotlib inline\n",
    "\n",
    "from codes.plot_utils import plot_pretty, plot_line_points\n",
    "\n",
    "plot_line_points(np.log10(hsteps), np.log10(ferr_rom), xlabel=r'$\\log_{10} h$',\n",
    "                 ylabel=r'log10(frac. error)', figsize=4)"
   ]
  },
  {
   "cell_type": "code",
   "execution_count": 211,
   "metadata": {},
   "outputs": [
    {
     "name": "stderr",
     "output_type": "stream",
     "text": [
      "/usr/local/lib/python3.5/dist-packages/ipykernel_launcher.py:7: RuntimeWarning: divide by zero encountered in log10\n",
      "  import sys\n"
     ]
    },
    {
     "ename": "ValueError",
     "evalue": "x and y must be the same size",
     "output_type": "error",
     "traceback": [
      "\u001b[0;31m---------------------------------------------------------------------------\u001b[0m",
      "\u001b[0;31mValueError\u001b[0m                                Traceback (most recent call last)",
      "\u001b[0;32m<ipython-input-211-f28d3fcc1b63>\u001b[0m in \u001b[0;36m<module>\u001b[0;34m\u001b[0m\n\u001b[1;32m      9\u001b[0m                  \u001b[0mlegendloc\u001b[0m \u001b[0;34m=\u001b[0m \u001b[0;34m'lower right'\u001b[0m\u001b[0;34m,\u001b[0m\u001b[0;34m\u001b[0m\u001b[0m\n\u001b[1;32m     10\u001b[0m                  \u001b[0mplot_title\u001b[0m\u001b[0;34m=\u001b[0m\u001b[0;34mr'$R_1\\ \\rm frac.\\ error\\ scaling\\ with\\ step\\ size$'\u001b[0m\u001b[0;34m,\u001b[0m\u001b[0;34m\u001b[0m\u001b[0m\n\u001b[0;32m---> 11\u001b[0;31m                  grid=True, figsize=5, figsave='fracerr_r1.pdf')\n\u001b[0m",
      "\u001b[0;32m~/Desktop/astro211/github_a211w20/codes/plot_utils.py\u001b[0m in \u001b[0;36mplot_line_points\u001b[0;34m(x, y, figsize, xlabel, ylabel, col, xp, yp, points, pmarker, pcol, legend, plegend, legendloc, plot_title, grid, figsave)\u001b[0m\n\u001b[1;32m     38\u001b[0m         \u001b[0;32mif\u001b[0m \u001b[0mpoints\u001b[0m\u001b[0;34m:\u001b[0m\u001b[0;34m\u001b[0m\u001b[0m\n\u001b[1;32m     39\u001b[0m             \u001b[0;32mif\u001b[0m \u001b[0mplegend\u001b[0m\u001b[0;34m:\u001b[0m\u001b[0;34m\u001b[0m\u001b[0m\n\u001b[0;32m---> 40\u001b[0;31m                 \u001b[0mplt\u001b[0m\u001b[0;34m.\u001b[0m\u001b[0mscatter\u001b[0m\u001b[0;34m(\u001b[0m\u001b[0mxp\u001b[0m\u001b[0;34m,\u001b[0m \u001b[0myp\u001b[0m\u001b[0;34m,\u001b[0m \u001b[0mmarker\u001b[0m\u001b[0;34m=\u001b[0m\u001b[0mpmarker\u001b[0m\u001b[0;34m,\u001b[0m \u001b[0mlw\u001b[0m \u001b[0;34m=\u001b[0m \u001b[0;36m2.\u001b[0m\u001b[0;34m,\u001b[0m \u001b[0mc\u001b[0m\u001b[0;34m=\u001b[0m\u001b[0mpcol\u001b[0m\u001b[0;34m,\u001b[0m \u001b[0mlabel\u001b[0m\u001b[0;34m=\u001b[0m\u001b[0mplegend\u001b[0m\u001b[0;34m)\u001b[0m\u001b[0;34m\u001b[0m\u001b[0m\n\u001b[0m\u001b[1;32m     41\u001b[0m             \u001b[0;32melse\u001b[0m\u001b[0;34m:\u001b[0m\u001b[0;34m\u001b[0m\u001b[0m\n\u001b[1;32m     42\u001b[0m                 \u001b[0mplt\u001b[0m\u001b[0;34m.\u001b[0m\u001b[0mscatter\u001b[0m\u001b[0;34m(\u001b[0m\u001b[0mxp\u001b[0m\u001b[0;34m,\u001b[0m \u001b[0myp\u001b[0m\u001b[0;34m,\u001b[0m \u001b[0mmarker\u001b[0m\u001b[0;34m=\u001b[0m\u001b[0mpmarker\u001b[0m\u001b[0;34m,\u001b[0m \u001b[0mlw\u001b[0m \u001b[0;34m=\u001b[0m \u001b[0;36m2.\u001b[0m\u001b[0;34m,\u001b[0m \u001b[0mc\u001b[0m\u001b[0;34m=\u001b[0m\u001b[0mpcol\u001b[0m\u001b[0;34m)\u001b[0m\u001b[0;34m\u001b[0m\u001b[0m\n",
      "\u001b[0;32m/usr/local/lib/python3.5/dist-packages/matplotlib/pyplot.py\u001b[0m in \u001b[0;36mscatter\u001b[0;34m(x, y, s, c, marker, cmap, norm, vmin, vmax, alpha, linewidths, verts, edgecolors, data, **kwargs)\u001b[0m\n\u001b[1;32m   2860\u001b[0m         \u001b[0mvmin\u001b[0m\u001b[0;34m=\u001b[0m\u001b[0mvmin\u001b[0m\u001b[0;34m,\u001b[0m \u001b[0mvmax\u001b[0m\u001b[0;34m=\u001b[0m\u001b[0mvmax\u001b[0m\u001b[0;34m,\u001b[0m \u001b[0malpha\u001b[0m\u001b[0;34m=\u001b[0m\u001b[0malpha\u001b[0m\u001b[0;34m,\u001b[0m \u001b[0mlinewidths\u001b[0m\u001b[0;34m=\u001b[0m\u001b[0mlinewidths\u001b[0m\u001b[0;34m,\u001b[0m\u001b[0;34m\u001b[0m\u001b[0m\n\u001b[1;32m   2861\u001b[0m         verts=verts, edgecolors=edgecolors, **({\"data\": data} if data\n\u001b[0;32m-> 2862\u001b[0;31m         is not None else {}), **kwargs)\n\u001b[0m\u001b[1;32m   2863\u001b[0m     \u001b[0msci\u001b[0m\u001b[0;34m(\u001b[0m\u001b[0m__ret\u001b[0m\u001b[0;34m)\u001b[0m\u001b[0;34m\u001b[0m\u001b[0m\n\u001b[1;32m   2864\u001b[0m     \u001b[0;32mreturn\u001b[0m \u001b[0m__ret\u001b[0m\u001b[0;34m\u001b[0m\u001b[0m\n",
      "\u001b[0;32m/usr/local/lib/python3.5/dist-packages/matplotlib/__init__.py\u001b[0m in \u001b[0;36minner\u001b[0;34m(ax, data, *args, **kwargs)\u001b[0m\n\u001b[1;32m   1808\u001b[0m                         \u001b[0;34m\"the Matplotlib list!)\"\u001b[0m \u001b[0;34m%\u001b[0m \u001b[0;34m(\u001b[0m\u001b[0mlabel_namer\u001b[0m\u001b[0;34m,\u001b[0m \u001b[0mfunc\u001b[0m\u001b[0;34m.\u001b[0m\u001b[0m__name__\u001b[0m\u001b[0;34m)\u001b[0m\u001b[0;34m,\u001b[0m\u001b[0;34m\u001b[0m\u001b[0m\n\u001b[1;32m   1809\u001b[0m                         RuntimeWarning, stacklevel=2)\n\u001b[0;32m-> 1810\u001b[0;31m             \u001b[0;32mreturn\u001b[0m \u001b[0mfunc\u001b[0m\u001b[0;34m(\u001b[0m\u001b[0max\u001b[0m\u001b[0;34m,\u001b[0m \u001b[0;34m*\u001b[0m\u001b[0margs\u001b[0m\u001b[0;34m,\u001b[0m \u001b[0;34m**\u001b[0m\u001b[0mkwargs\u001b[0m\u001b[0;34m)\u001b[0m\u001b[0;34m\u001b[0m\u001b[0m\n\u001b[0m\u001b[1;32m   1811\u001b[0m \u001b[0;34m\u001b[0m\u001b[0m\n\u001b[1;32m   1812\u001b[0m         inner.__doc__ = _add_data_doc(inner.__doc__,\n",
      "\u001b[0;32m/usr/local/lib/python3.5/dist-packages/matplotlib/axes/_axes.py\u001b[0m in \u001b[0;36mscatter\u001b[0;34m(self, x, y, s, c, marker, cmap, norm, vmin, vmax, alpha, linewidths, verts, edgecolors, **kwargs)\u001b[0m\n\u001b[1;32m   4180\u001b[0m         \u001b[0my\u001b[0m \u001b[0;34m=\u001b[0m \u001b[0mnp\u001b[0m\u001b[0;34m.\u001b[0m\u001b[0mma\u001b[0m\u001b[0;34m.\u001b[0m\u001b[0mravel\u001b[0m\u001b[0;34m(\u001b[0m\u001b[0my\u001b[0m\u001b[0;34m)\u001b[0m\u001b[0;34m\u001b[0m\u001b[0m\n\u001b[1;32m   4181\u001b[0m         \u001b[0;32mif\u001b[0m \u001b[0mx\u001b[0m\u001b[0;34m.\u001b[0m\u001b[0msize\u001b[0m \u001b[0;34m!=\u001b[0m \u001b[0my\u001b[0m\u001b[0;34m.\u001b[0m\u001b[0msize\u001b[0m\u001b[0;34m:\u001b[0m\u001b[0;34m\u001b[0m\u001b[0m\n\u001b[0;32m-> 4182\u001b[0;31m             \u001b[0;32mraise\u001b[0m \u001b[0mValueError\u001b[0m\u001b[0;34m(\u001b[0m\u001b[0;34m\"x and y must be the same size\"\u001b[0m\u001b[0;34m)\u001b[0m\u001b[0;34m\u001b[0m\u001b[0m\n\u001b[0m\u001b[1;32m   4183\u001b[0m \u001b[0;34m\u001b[0m\u001b[0m\n\u001b[1;32m   4184\u001b[0m         \u001b[0;32mif\u001b[0m \u001b[0ms\u001b[0m \u001b[0;32mis\u001b[0m \u001b[0;32mNone\u001b[0m\u001b[0;34m:\u001b[0m\u001b[0;34m\u001b[0m\u001b[0m\n",
      "\u001b[0;31mValueError\u001b[0m: x and y must be the same size"
     ]
    },
    {
     "data": {
      "image/png": "[encoded data removed]",
      "text/plain": [
       "<Figure size 360x360 with 1 Axes>"
      ]
     },
     "metadata": {
      "needs_background": "light"
     },
     "output_type": "display_data"
    }
   ],
   "source": [
    "\n",
    "#model is ferr ~ h^n, we normalize it to the size of error for first step size in the sequence:\n",
    "ferr_model = ferr_rom[0] * (hsteps/hsteps[0])**4\n",
    "\n",
    "plot_line_points(np.log10(hsteps), np.log10(ferr_model), \n",
    "                 xlabel=r'$\\log_{10}\\,\\rm step\\ size$', ylabel = r'$\\log_{10}\\vert\\rm fractional\\ error\\vert$',\n",
    "                 xp=np.log10(hsteps), yp=np.log10(ferr), points=True, \n",
    "                 legend=r'${\\rm scaling} \\propto h^4$', plegend = r'$\\rm measured\\ error$',\n",
    "                 legendloc = 'lower right', \n",
    "                 plot_title=r'$R_1\\ \\rm frac.\\ error\\ scaling\\ with\\ step\\ size$',\n",
    "                 grid=True, figsize=5, figsave='fracerr_r1.pdf')"
   ]
  },
  {
   "cell_type": "code",
   "execution_count": 210,
   "metadata": {
    "slideshow": {
     "slide_type": "slide"
    }
   },
   "outputs": [],
   "source": [
    "def _dc(z1, z2, hstep, *args):\n",
    "    \"\"\"\n",
    "    helper function to compute D_c from z1 to z2 by numerical integration using trapzd\n",
    "    \n",
    "    Parameters: \n",
    "    -----------\n",
    "    z1, z2: floats = redshift integration limits\n",
    "    hstep: float = step size for trapezoidal integration\n",
    "    *args: pointer to argument list to pass to dl_func\n",
    "    \n",
    "    Returns:\n",
    "    --------\n",
    "    float - value of the integral estimated using trapezoidal integration\n",
    "    \"\"\"\n",
    "    return trapzd(dl_func, z1, z2, hstep, *args)"
   ]
  },
  {
   "cell_type": "code",
   "execution_count": 5,
   "metadata": {},
   "outputs": [],
   "source": [
    "def d_L(z, H0, Om0, OmL, hstep=1.e-8):\n",
    "    \"\"\"\n",
    "    routine computing luminosity distance from z=0 to z \n",
    "    using helper routine for comoving distance _dc\n",
    "    \n",
    "    Parameters:\n",
    "    -----------\n",
    "    z: float - redshift to which to compute d_L\n",
    "    H0: float - Hubble constant in units of km/s/Mpc\n",
    "    Om0: float - dimensionless mean matter density in the universe, >= 0\n",
    "    OmL: float - dimensionless mean vacuum energy density in the universe\n",
    "    hstep: float - step size to use\n",
    "     \n",
    "    Returns:\n",
    "    --------\n",
    "    float - value of d_L(z, H0, Om0, OmL) \n",
    "            estimated using trapezoidal integration with step size hstep \n",
    "    \"\"\"\n",
    "    if 1.0+OmL == 1.0: # note that I exploit the roundoff error in testing whether OmL is consistent with zero\n",
    "        return d_L_simple(z, H0, Om0) # if OmL=0, use simple formula without integration\n",
    "    else: # otherwise use numerical integration to compute distance \n",
    "        dH = clight / H0 \n",
    "        Omk = 1.0 - Om0 - OmL\n",
    "        args = [H0, Om0, OmL, Omk]\n",
    "        dc = _dc(0., z, hstep, *args)\n",
    "        if 1.0 + Omk == 1.0:\n",
    "            return dH * dc * (1.0 + z)\n",
    "        else:\n",
    "            sqrOmk = np.sqrt(np.abs(Omk))\n",
    "            if Omk > 0.:\n",
    "                return dH * np.sinh(dc*sqrOmk) * (1.0 + z) / sqrOmk \n",
    "            else:\n",
    "                return dH * np.sin(dc*sqrOmk) * (1.0 + z) / sqrOmk\n",
    "            \n",
    "        return dL"
   ]
  },
  {
   "cell_type": "code",
   "execution_count": 6,
   "metadata": {},
   "outputs": [
    {
     "name": "stdout",
     "output_type": "stream",
     "text": [
      "d_L(z=2.00, Om0=0.30, OmL=0.70, H0=70.0) = 1.554e+04 Mpc\n"
     ]
    }
   ],
   "source": [
    "H0, Om0, OmL = 70., 0.3, 0.7;\n",
    "z = 2.0\n",
    "\n",
    "hstep = 1.e-6\n",
    "\n",
    "dLtrap    = d_L(z, H0, Om0, OmL, hstep=hstep)\n",
    "\n",
    "print(\"d_L(z=%.2f, Om0=%.2f, OmL=%.2f, H0=%.1f) = %.4g Mpc\"%(z, Om0, OmL, H0, dLtrap))\n"
   ]
  },
  {
   "cell_type": "code",
   "execution_count": null,
   "metadata": {},
   "outputs": [],
   "source": []
  }
 ],
 "metadata": {
  "kernelspec": {
   "display_name": "Python 3",
   "language": "python",
   "name": "python3"
  },
  "language_info": {
   "codemirror_mode": {
    "name": "ipython",
    "version": 3
   },
   "file_extension": ".py",
   "mimetype": "text/x-python",
   "name": "python",
   "nbconvert_exporter": "python",
   "pygments_lexer": "ipython3",
   "version": "3.5.2"
  }
 },
 "nbformat": 4,
 "nbformat_minor": 1
}
